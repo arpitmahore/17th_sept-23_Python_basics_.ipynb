{
  "nbformat": 4,
  "nbformat_minor": 0,
  "metadata": {
    "colab": {
      "provenance": []
    },
    "kernelspec": {
      "name": "python3",
      "display_name": "Python 3"
    },
    "language_info": {
      "name": "python"
    }
  },
  "cells": [
    {
      "cell_type": "markdown",
      "source": [
        "Write a Python program to print numbers from 1 to 10 using a for loop using function."
      ],
      "metadata": {
        "id": "DlXqlwai3UWz"
      }
    },
    {
      "cell_type": "code",
      "source": [
        "def print_num():\n",
        "\n",
        "    for i  in range(1,11):\n",
        "        print(i)\n",
        "\n",
        "print_num()"
      ],
      "metadata": {
        "colab": {
          "base_uri": "https://localhost:8080/"
        },
        "id": "BwmIbVzV4UdZ",
        "outputId": "364452e3-aad7-485b-f4b9-7736598f9b22"
      },
      "execution_count": null,
      "outputs": [
        {
          "output_type": "stream",
          "name": "stdout",
          "text": [
            "1\n",
            "2\n",
            "3\n",
            "4\n",
            "5\n",
            "6\n",
            "7\n",
            "8\n",
            "9\n",
            "10\n"
          ]
        }
      ]
    },
    {
      "cell_type": "markdown",
      "source": [
        "Write a Python program to calculate the sum of all numbers from 1 to 100 using a for loop.\n"
      ],
      "metadata": {
        "id": "VP8ojd9e49NZ"
      }
    },
    {
      "cell_type": "code",
      "source": [
        "def sum_all(num):\n",
        "\n",
        "    result = 0\n",
        "\n",
        "    for i in range(1,num+1):\n",
        "        result = result + i\n",
        "    print(\"sum = \",result)\n",
        "\n",
        "sum_all(100)"
      ],
      "metadata": {
        "colab": {
          "base_uri": "https://localhost:8080/"
        },
        "id": "YcxItur_5QCq",
        "outputId": "7e9709b2-afc5-47c9-9352-8c34ac74bd4c"
      },
      "execution_count": null,
      "outputs": [
        {
          "output_type": "stream",
          "name": "stdout",
          "text": [
            "sum =  5050\n"
          ]
        }
      ]
    },
    {
      "cell_type": "markdown",
      "source": [
        "How do you iterate through a list using a for loop in Python?"
      ],
      "metadata": {
        "id": "EpS9fvBy6X36"
      }
    },
    {
      "cell_type": "code",
      "source": [
        "fruits = [\"apple\", \"banana\", \"cherry\"]\n",
        "for fruit in fruits:\n",
        "  print(fruit)\n"
      ],
      "metadata": {
        "colab": {
          "base_uri": "https://localhost:8080/"
        },
        "id": "MoKxE4aS6bT-",
        "outputId": "b9bae67a-9114-4783-e194-8d94d1584654"
      },
      "execution_count": null,
      "outputs": [
        {
          "output_type": "stream",
          "name": "stdout",
          "text": [
            "apple\n",
            "banana\n",
            "cherry\n"
          ]
        }
      ]
    },
    {
      "cell_type": "markdown",
      "source": [
        "Write a Python program to find the product of all elements in a list using a for loop.\n"
      ],
      "metadata": {
        "id": "U2TLlChh6qPh"
      }
    },
    {
      "cell_type": "code",
      "source": [
        "def product_all(list):\n",
        "\n",
        "    result = 1\n",
        "\n",
        "    for i in range(len(list)):\n",
        "        result = result * list[i]\n",
        "    print(\"product = \",result)\n",
        "\n",
        "product_all([1,2,3,4,5,6,7,8,9,10])\n"
      ],
      "metadata": {
        "colab": {
          "base_uri": "https://localhost:8080/"
        },
        "id": "ASazYcIa6rIA",
        "outputId": "70794cb2-acb5-484e-f7b6-d4ba24f30662"
      },
      "execution_count": null,
      "outputs": [
        {
          "output_type": "stream",
          "name": "stdout",
          "text": [
            "product =  3628800\n"
          ]
        }
      ]
    },
    {
      "cell_type": "markdown",
      "source": [
        "Create a Python program that prints all even numbers from 1 to 20 using a for loop.\n"
      ],
      "metadata": {
        "id": "qhkMT4jtCMYK"
      }
    },
    {
      "cell_type": "code",
      "source": [
        "def print_even(num):\n",
        "\n",
        "    for i in range(1,num+1):\n",
        "\n",
        "        if i%2==0:\n",
        "            print(i)\n",
        "\n",
        "print_even(20)"
      ],
      "metadata": {
        "colab": {
          "base_uri": "https://localhost:8080/"
        },
        "id": "PZrVU_eMCRJ9",
        "outputId": "c76609c7-f88e-437d-ffac-9baa1e6a1244"
      },
      "execution_count": null,
      "outputs": [
        {
          "output_type": "stream",
          "name": "stdout",
          "text": [
            "2\n",
            "4\n",
            "6\n",
            "8\n",
            "10\n",
            "12\n",
            "14\n",
            "16\n",
            "18\n",
            "20\n"
          ]
        }
      ]
    },
    {
      "cell_type": "markdown",
      "source": [
        "Write a Python program that calculates the factorial of a number using a for loop.\n"
      ],
      "metadata": {
        "id": "zJTXQJFdDNGp"
      }
    },
    {
      "cell_type": "code",
      "source": [
        "def factorial(num):\n",
        "\n",
        "    fact = 1\n",
        "\n",
        "    for i in range(1,num+1):\n",
        "\n",
        "        fact= fact*i\n",
        "    return fact\n",
        "\n",
        "factorial(5)"
      ],
      "metadata": {
        "colab": {
          "base_uri": "https://localhost:8080/"
        },
        "id": "HxxNZ9F2DWYR",
        "outputId": "93b0bfb7-c538-45fa-c9df-b2606286f10a"
      },
      "execution_count": null,
      "outputs": [
        {
          "output_type": "execute_result",
          "data": {
            "text/plain": [
              "120"
            ]
          },
          "metadata": {},
          "execution_count": 14
        }
      ]
    },
    {
      "cell_type": "markdown",
      "source": [
        "Write a Python program to find the largest number in a list using a for loop.\n"
      ],
      "metadata": {
        "id": "kEdI-hjiEP9c"
      }
    },
    {
      "cell_type": "code",
      "source": [
        "def find_largest_num():\n",
        "\n",
        "    lst= [12,43,53,23,55,67,343,777]\n",
        "\n",
        "    max_num = lst[0]\n",
        "\n",
        "    for i in lst:\n",
        "        if i > max_num:\n",
        "            max_num = i\n",
        "    print(\"Largest number is \",max_num)\n",
        "\n",
        "\n",
        "find_largest_num()"
      ],
      "metadata": {
        "colab": {
          "base_uri": "https://localhost:8080/"
        },
        "id": "dVGsCj0xESL2",
        "outputId": "1a7387cd-855a-4690-cb79-8d7b4ba0026b"
      },
      "execution_count": null,
      "outputs": [
        {
          "output_type": "stream",
          "name": "stdout",
          "text": [
            "Largest number is  777\n"
          ]
        }
      ]
    },
    {
      "cell_type": "markdown",
      "source": [
        "Create a Python program that prints the Fibonacci sequence up to a specified limit using a for loop."
      ],
      "metadata": {
        "id": "pG3GhxqoHK5p"
      }
    },
    {
      "cell_type": "code",
      "source": [
        "def fibonacci(limit):\n",
        "  a, b = 0, 1\n",
        "  while a < limit:\n",
        "    print(a)\n",
        "    a, b = b, a + b\n",
        "\n",
        "fibonacci(10)\n"
      ],
      "metadata": {
        "colab": {
          "base_uri": "https://localhost:8080/"
        },
        "id": "d2ODGB6YFTmo",
        "outputId": "5a4d7651-ae68-4b12-f4ba-11a3dc5ea75a"
      },
      "execution_count": null,
      "outputs": [
        {
          "output_type": "stream",
          "name": "stdout",
          "text": [
            "0\n",
            "1\n",
            "1\n",
            "2\n",
            "3\n",
            "5\n",
            "8\n"
          ]
        }
      ]
    },
    {
      "cell_type": "markdown",
      "source": [
        "\n",
        "Write a Python program to count the number of vowels in a given string using a for loop."
      ],
      "metadata": {
        "id": "DdI4R8Q4H_h1"
      }
    },
    {
      "cell_type": "code",
      "source": [
        "def count_vowels():\n",
        "\n",
        "    vowels = [\"a\",\"e\",\"i\",\"o\",\"u\"]\n",
        "    count = 0\n",
        "    str= \"hii my name is pratap\"\n",
        "\n",
        "    for i in str:\n",
        "        if i in vowels:\n",
        "            count = count+1\n",
        "    print(count)\n",
        "\n",
        "count_vowels()\n"
      ],
      "metadata": {
        "id": "ishQccTbIIvt",
        "colab": {
          "base_uri": "https://localhost:8080/"
        },
        "outputId": "21281fcf-d345-4f63-d19a-f28f2e406f08"
      },
      "execution_count": null,
      "outputs": [
        {
          "output_type": "stream",
          "name": "stdout",
          "text": [
            "7\n"
          ]
        }
      ]
    },
    {
      "cell_type": "markdown",
      "source": [
        "Create a Python program that generates a multiplication table for a given number using a for loop."
      ],
      "metadata": {
        "id": "cOYyu7msqwAD"
      }
    },
    {
      "cell_type": "code",
      "source": [
        "def generate_table(num):\n",
        "\n",
        "    table = 0\n",
        "\n",
        "    for i in range(1,11,1):\n",
        "\n",
        "        table = i * num\n",
        "        print(table)\n",
        "\n",
        "generate_table(7)\n"
      ],
      "metadata": {
        "colab": {
          "base_uri": "https://localhost:8080/"
        },
        "id": "NyC4HXJyq9lR",
        "outputId": "c9b8cf46-94cb-4f73-f437-1c34e574ba82"
      },
      "execution_count": null,
      "outputs": [
        {
          "output_type": "stream",
          "name": "stdout",
          "text": [
            "7\n",
            "14\n",
            "21\n",
            "28\n",
            "35\n",
            "42\n",
            "49\n",
            "56\n",
            "63\n",
            "70\n"
          ]
        }
      ]
    },
    {
      "cell_type": "markdown",
      "source": [
        "Write a Python program to reverse a list using a for loop.\n"
      ],
      "metadata": {
        "id": "6KK1jdPWsX02"
      }
    },
    {
      "cell_type": "code",
      "source": [
        "def reverse_list():\n",
        "\n",
        "    lst = [1,2,3,4,5,6,7]\n",
        "\n",
        "    reverse_lst =[]\n",
        "\n",
        "    for i in range(len(lst)-1,-1,-1):\n",
        "\n",
        "        reverse_lst.append(lst[i])\n",
        "    return reverse_lst\n",
        "\n",
        "reverse_list()"
      ],
      "metadata": {
        "colab": {
          "base_uri": "https://localhost:8080/"
        },
        "id": "b4NQr5NPsc7u",
        "outputId": "48bf2ab1-4aa5-418a-b182-cbad86801406"
      },
      "execution_count": null,
      "outputs": [
        {
          "output_type": "stream",
          "name": "stdout",
          "text": [
            "6\n",
            "5\n",
            "4\n",
            "3\n",
            "2\n",
            "1\n",
            "0\n"
          ]
        },
        {
          "output_type": "execute_result",
          "data": {
            "text/plain": [
              "[7, 6, 5, 4, 3, 2, 1]"
            ]
          },
          "metadata": {},
          "execution_count": 10
        }
      ]
    },
    {
      "cell_type": "markdown",
      "source": [
        "Write a Python program to find the common elements between two lists using a for loop."
      ],
      "metadata": {
        "id": "N2oFUgHB7Hp-"
      }
    },
    {
      "cell_type": "code",
      "source": [
        "def find_common():\n",
        "\n",
        "    lst1 = [1,2,3,4,5,6,7]\n",
        "    lst2 = [9,8,99,33,2,3,4,7]\n",
        "\n",
        "    common = []\n",
        "\n",
        "    for i in lst1:\n",
        "        if i in lst2:\n",
        "            common.append(i)\n",
        "    return common\n",
        "\n",
        "find_common()"
      ],
      "metadata": {
        "colab": {
          "base_uri": "https://localhost:8080/"
        },
        "id": "wzb74G7TGnUG",
        "outputId": "83a4ebee-986a-48af-bc8d-8bebf28bafa2"
      },
      "execution_count": null,
      "outputs": [
        {
          "output_type": "execute_result",
          "data": {
            "text/plain": [
              "[2, 3, 4, 7]"
            ]
          },
          "metadata": {},
          "execution_count": 1
        }
      ]
    },
    {
      "cell_type": "markdown",
      "source": [
        "Create a Python program that checks if a string is a palindrome using a for loop.\n"
      ],
      "metadata": {
        "id": "wNFKZISHIRi5"
      }
    },
    {
      "cell_type": "code",
      "source": [
        "def is_palindrome(string):\n",
        "\n",
        "    length = len(string)\n",
        "\n",
        "    for i in range(0,length//2):\n",
        "\n",
        "        if string[i] != string[length-i-1]:\n",
        "\n",
        "            return False\n",
        "\n",
        "    return True\n",
        "\n",
        "print(is_palindrome(\"racecar\"))\n"
      ],
      "metadata": {
        "colab": {
          "base_uri": "https://localhost:8080/"
        },
        "id": "5qf-Me5GOszQ",
        "outputId": "795ed960-d389-4bb2-b804-d96c422a66c6"
      },
      "execution_count": null,
      "outputs": [
        {
          "output_type": "stream",
          "name": "stdout",
          "text": [
            "True\n"
          ]
        }
      ]
    },
    {
      "cell_type": "markdown",
      "source": [
        "Write a Python program to remove duplicates from a list using a for loop."
      ],
      "metadata": {
        "id": "-KEAQ2ZNa1Gz"
      }
    },
    {
      "cell_type": "code",
      "source": [
        "def remove_dupl():\n",
        "\n",
        "    lst =[1,2,3,4,5,1,2,7]\n",
        "    lst1 = []\n",
        "\n",
        "    for i in lst:\n",
        "        if i not in lst1:\n",
        "            lst1.append(i)\n",
        "    return lst1\n",
        "\n",
        "remove_dupl()\n"
      ],
      "metadata": {
        "colab": {
          "base_uri": "https://localhost:8080/"
        },
        "id": "vPS-ystcbCVd",
        "outputId": "821a7ace-a853-468f-f5f0-f6281f06ed4b"
      },
      "execution_count": null,
      "outputs": [
        {
          "output_type": "execute_result",
          "data": {
            "text/plain": [
              "[1, 2, 3, 4, 5, 7]"
            ]
          },
          "metadata": {},
          "execution_count": 17
        }
      ]
    },
    {
      "cell_type": "markdown",
      "source": [
        "Create a Python program that counts the number of words in a sentence using a for loop.\n"
      ],
      "metadata": {
        "id": "WY5RCc51cbK4"
      }
    },
    {
      "cell_type": "code",
      "source": [
        "sentence = \"This is a sentence.\"\n",
        "count = 0\n",
        "for word in sentence.split():\n",
        "  count += 1\n",
        "print(count)\n"
      ],
      "metadata": {
        "colab": {
          "base_uri": "https://localhost:8080/"
        },
        "id": "UNAkOtw7cfBJ",
        "outputId": "4ada3c6f-f09d-4a45-e453-741a81fd2bbd"
      },
      "execution_count": null,
      "outputs": [
        {
          "output_type": "stream",
          "name": "stdout",
          "text": [
            "4\n"
          ]
        }
      ]
    },
    {
      "cell_type": "markdown",
      "source": [
        "Write a Python program to find the sum of all odd numbers from 1 to 50 using a for loop.\n"
      ],
      "metadata": {
        "id": "5zS01JpuczZ4"
      }
    },
    {
      "cell_type": "code",
      "source": [
        "def sum_odd():\n",
        "\n",
        "    sum = 0\n",
        "\n",
        "    for i in range(1,51,2):\n",
        "\n",
        "        sum = sum + i\n",
        "    return sum\n",
        "\n",
        "sum_odd()\n"
      ],
      "metadata": {
        "colab": {
          "base_uri": "https://localhost:8080/"
        },
        "id": "7OlPmWbQc3DF",
        "outputId": "be87595a-6a52-4486-ff97-e2cd9e7498cc"
      },
      "execution_count": null,
      "outputs": [
        {
          "output_type": "execute_result",
          "data": {
            "text/plain": [
              "625"
            ]
          },
          "metadata": {},
          "execution_count": 20
        }
      ]
    },
    {
      "cell_type": "markdown",
      "source": [
        "Write a Python program that checks if a given year is a leap year using a for loop.\n"
      ],
      "metadata": {
        "id": "_JOLorz2d5w2"
      }
    },
    {
      "cell_type": "code",
      "source": [
        "def is_leap_year(year):\n",
        "\n",
        "    if year % 100 == 0:\n",
        "        return year % 400 == 0\n",
        "    else:\n",
        "        return year % 4 == 0\n",
        "\n",
        "print(is_leap_year(2020))\n",
        "\n"
      ],
      "metadata": {
        "colab": {
          "base_uri": "https://localhost:8080/"
        },
        "id": "PFXTsgHld4Yq",
        "outputId": "426d8649-8820-42e2-98de-258157857c0f"
      },
      "execution_count": null,
      "outputs": [
        {
          "output_type": "stream",
          "name": "stdout",
          "text": [
            "True\n"
          ]
        }
      ]
    },
    {
      "cell_type": "markdown",
      "source": [
        "Create a Python program that calculates the square root of a number using a for loop.\n"
      ],
      "metadata": {
        "id": "dSh4NNcNefpM"
      }
    },
    {
      "cell_type": "code",
      "source": [
        "import math\n",
        "\n",
        "def sqrt(n):\n",
        "  # Iterate over all possible integer values of x\n",
        "  for x in range(1, int(math.sqrt(n)) + 1):\n",
        "    # Check if x^2 is equal to n\n",
        "    if x ** 2 == n:\n",
        "      return x\n",
        "\n",
        "  # If no such x exists, return -1\n",
        "  return -1\n",
        "\n",
        "print(sqrt(16))\n"
      ],
      "metadata": {
        "colab": {
          "base_uri": "https://localhost:8080/"
        },
        "id": "wzdHUDL_eisu",
        "outputId": "39b54e4c-f586-4e14-9095-a535a1cbde08"
      },
      "execution_count": null,
      "outputs": [
        {
          "output_type": "stream",
          "name": "stdout",
          "text": [
            "4\n"
          ]
        }
      ]
    },
    {
      "cell_type": "markdown",
      "source": [
        "Write a Python program to find the LCM (Least Common Multiple) of two numbers using a for loop.\n"
      ],
      "metadata": {
        "id": "2LH_N9cke16e"
      }
    },
    {
      "cell_type": "code",
      "source": [
        "def lcm(a, b):\n",
        "\n",
        "    lcm = 0\n",
        "\n",
        "    m, n = min(a, b), max(a, b)\n",
        "    for i in range(m, n + 1):\n",
        "        if m % i == 0 and n % i == 0:\n",
        "            lcm = i\n",
        "            break\n",
        "\n",
        "    return lcm\n",
        "\n",
        "print(lcm(12, 18))\n"
      ],
      "metadata": {
        "colab": {
          "base_uri": "https://localhost:8080/"
        },
        "id": "9Nxh51gOe5Qs",
        "outputId": "5b89182d-565b-4ba3-d174-2472cd3ec995"
      },
      "execution_count": null,
      "outputs": [
        {
          "output_type": "stream",
          "name": "stdout",
          "text": [
            "0\n"
          ]
        }
      ]
    },
    {
      "cell_type": "markdown",
      "source": [
        "Write a Python program to check if a number is positive, negative, or zero using an if-else statement."
      ],
      "metadata": {
        "id": "0FidN4KKjezs"
      }
    },
    {
      "cell_type": "code",
      "source": [
        "def check_num(num):\n",
        "\n",
        "    if num > 0:\n",
        "        print(\"number is positive\")\n",
        "    elif num < 0:\n",
        "        print(\"number is negative\")\n",
        "    else:\n",
        "        print(\"number is zero\")\n",
        "\n",
        "check_num(4)\n",
        "check_num(-3)\n",
        "check_num(0)"
      ],
      "metadata": {
        "colab": {
          "base_uri": "https://localhost:8080/"
        },
        "id": "MoVhTkW4Cb80",
        "outputId": "5214843d-4d3f-4387-fc7b-7d15e456cae3"
      },
      "execution_count": null,
      "outputs": [
        {
          "output_type": "stream",
          "name": "stdout",
          "text": [
            "number is positive\n",
            "number is negative\n",
            "number is zero\n"
          ]
        }
      ]
    },
    {
      "cell_type": "markdown",
      "source": [
        "Create a Python program that checks if a given number is even or odd using an if-else statement.\n"
      ],
      "metadata": {
        "id": "Z_aJuqp8Dwb3"
      }
    },
    {
      "cell_type": "code",
      "source": [
        "def check_odd_even(num):\n",
        "\n",
        "    if num % 2 == 0:\n",
        "        print(\"Number is even\")\n",
        "    else:\n",
        "        print(\"Number is odd\")\n",
        "\n",
        "check_odd_even(16)\n",
        "check_odd_even(3)"
      ],
      "metadata": {
        "colab": {
          "base_uri": "https://localhost:8080/"
        },
        "id": "nZfzm7wGD2W3",
        "outputId": "bc060c17-c470-42ac-dcfc-9fb724e117fd"
      },
      "execution_count": null,
      "outputs": [
        {
          "output_type": "stream",
          "name": "stdout",
          "text": [
            "Number is even\n",
            "Number is odd\n"
          ]
        }
      ]
    },
    {
      "cell_type": "markdown",
      "source": [
        "Write a Python program to determine the largest of three numbers using if-else.\n"
      ],
      "metadata": {
        "id": "yP4oXrxhE2Ik"
      }
    },
    {
      "cell_type": "code",
      "source": [
        "def check_large_three(a,b,c):\n",
        "\n",
        "    if a > b and a > c:\n",
        "        print(f\"{a} is greater than {b} and {c}\")\n",
        "    elif b > a and b > c:\n",
        "        print(f\"{b} is greater than {a} and {c}\")\n",
        "    else:\n",
        "        print(f\"{c} is greater than {a} and {b}\")\n",
        "\n",
        "check_large_three(10,20,30)"
      ],
      "metadata": {
        "colab": {
          "base_uri": "https://localhost:8080/"
        },
        "id": "RI8oz0L5E90z",
        "outputId": "5d57b420-790f-4990-a529-0f059e567da0"
      },
      "execution_count": null,
      "outputs": [
        {
          "output_type": "stream",
          "name": "stdout",
          "text": [
            "30 is greater than 10 and 20\n"
          ]
        }
      ]
    },
    {
      "cell_type": "markdown",
      "source": [
        "Write a Python program that calculates the absolute value of a number using if-else.\n"
      ],
      "metadata": {
        "id": "ZNvDIELiGVqb"
      }
    },
    {
      "cell_type": "code",
      "source": [
        "def abs(num):\n",
        "    if num < 0:\n",
        "        return -num\n",
        "    else:\n",
        "        return num\n",
        "\n",
        "\n",
        "print(abs(-5))\n",
        "print(abs(5))\n"
      ],
      "metadata": {
        "colab": {
          "base_uri": "https://localhost:8080/"
        },
        "id": "Y9s4mZATGZUB",
        "outputId": "af83d201-6348-4c4e-9c5d-3261e920bbdd"
      },
      "execution_count": null,
      "outputs": [
        {
          "output_type": "stream",
          "name": "stdout",
          "text": [
            "5\n",
            "5\n"
          ]
        }
      ]
    },
    {
      "cell_type": "markdown",
      "source": [
        "Create a Python program that checks if a given character is a vowel or consonant using if-else.\n"
      ],
      "metadata": {
        "id": "ivVk7kVLGzby"
      }
    },
    {
      "cell_type": "code",
      "source": [
        "def check_vowel_consonant(char):\n",
        "\n",
        "    vowels = [\"a\",\"e\",\"i\",\"o\",\"u\"]\n",
        "\n",
        "    if char in vowels:\n",
        "        print(\"character is vowels\")\n",
        "    else:\n",
        "        print(\"character is consonant\")\n",
        "\n",
        "check_vowel_consonant(\"a\")"
      ],
      "metadata": {
        "colab": {
          "base_uri": "https://localhost:8080/"
        },
        "id": "ZebZLeS9G2qW",
        "outputId": "e5129b90-81c0-4565-b948-f8552212d063"
      },
      "execution_count": null,
      "outputs": [
        {
          "output_type": "stream",
          "name": "stdout",
          "text": [
            "character is vowels\n"
          ]
        }
      ]
    },
    {
      "cell_type": "markdown",
      "source": [
        "Write a Python program to determine if a user is eligible to vote based on their age using if-else.\n"
      ],
      "metadata": {
        "id": "clXYLRq0IM0t"
      }
    },
    {
      "cell_type": "code",
      "source": [
        "def check_eligible_to_vote(age):\n",
        "\n",
        "    if age > 18 :\n",
        "        print(\"You are eligible for vote\")\n",
        "    else:\n",
        "        print(\"You are not eligible for vote\")\n",
        "\n",
        "check_eligible_to_vote(17)\n",
        "check_eligible_to_vote(19)"
      ],
      "metadata": {
        "colab": {
          "base_uri": "https://localhost:8080/"
        },
        "id": "HpLPDE0GIP8k",
        "outputId": "ee88f313-bf3b-4280-844b-be12c8890d3d"
      },
      "execution_count": null,
      "outputs": [
        {
          "output_type": "stream",
          "name": "stdout",
          "text": [
            "You are not eligible for vote\n",
            "You are eligible for vote\n"
          ]
        }
      ]
    },
    {
      "cell_type": "markdown",
      "source": [
        "Create a Python program that calculates the discount amount based on the purchase amount using if-else.\n"
      ],
      "metadata": {
        "id": "kRKNtOxIJqQH"
      }
    },
    {
      "cell_type": "code",
      "source": [
        "def calculate_discount(amount):\n",
        "\n",
        "    if amount >= 5000:\n",
        "        discount = amount * 0.25\n",
        "    elif amount >= 2000:\n",
        "        discount = amount * 0.15\n",
        "    elif amount >= 1000:\n",
        "        discount = amount * 0.10\n",
        "    else:\n",
        "        discount = 0\n",
        "\n",
        "    return discount\n",
        "\n",
        "print(calculate_discount(5000))\n",
        "print(calculate_discount(2000))\n",
        "print(calculate_discount(1000))\n",
        "print(calculate_discount(500))\n"
      ],
      "metadata": {
        "colab": {
          "base_uri": "https://localhost:8080/"
        },
        "id": "lRLpgGItJyMk",
        "outputId": "577a3748-9917-4ac9-f147-cae7221b7a8a"
      },
      "execution_count": null,
      "outputs": [
        {
          "output_type": "stream",
          "name": "stdout",
          "text": [
            "1250.0\n",
            "300.0\n",
            "100.0\n",
            "0\n"
          ]
        }
      ]
    },
    {
      "cell_type": "markdown",
      "source": [
        "Write a Python program to check if a number is within a specified range using if-else.\n"
      ],
      "metadata": {
        "id": "dwYIy7jm1QXO"
      }
    },
    {
      "cell_type": "code",
      "source": [
        "def check_range(num, min_range, max_range):\n",
        "\n",
        "    if num >= min_range and num <= max_range:\n",
        "        print(\"Number is in range\")\n",
        "    else:\n",
        "        print(\"Number is not in range\")\n",
        "\n",
        "check_range(10, 5, 15)\n",
        "check_range(20, 5, 15)\n"
      ],
      "metadata": {
        "colab": {
          "base_uri": "https://localhost:8080/"
        },
        "id": "FLHah23y1RDF",
        "outputId": "0d438889-0503-4eec-ce05-2dc8bba9769c"
      },
      "execution_count": null,
      "outputs": [
        {
          "output_type": "stream",
          "name": "stdout",
          "text": [
            "Number is in range\n",
            "Number is not in range\n"
          ]
        }
      ]
    },
    {
      "cell_type": "markdown",
      "source": [
        "Create a Python program that determines the grade of a student based on their score using if-else.\n"
      ],
      "metadata": {
        "id": "TJxJog0p1r1l"
      }
    },
    {
      "cell_type": "code",
      "source": [
        "def cal_grade(score):\n",
        "\n",
        "    if score > 85 :\n",
        "        print(\"A Grade\")\n",
        "    elif score > 65:\n",
        "        print(\"B Grade\")\n",
        "    elif score > 35:\n",
        "        print(\"C Grade\")\n",
        "    else:\n",
        "        print(\"Fail\")\n",
        "\n",
        "cal_grade(78)\n",
        "cal_grade(87)\n",
        "cal_grade(32)"
      ],
      "metadata": {
        "colab": {
          "base_uri": "https://localhost:8080/"
        },
        "id": "y3ccHlx31wmw",
        "outputId": "4a579f7a-04ab-406e-ae36-d81298b241c3"
      },
      "execution_count": null,
      "outputs": [
        {
          "output_type": "stream",
          "name": "stdout",
          "text": [
            "B Grade\n",
            "A Grade\n",
            "Fail\n"
          ]
        }
      ]
    },
    {
      "cell_type": "markdown",
      "source": [
        "Write a Python program to check if a string is empty or not using if-else.\n"
      ],
      "metadata": {
        "id": "o7w5VyOX2-_P"
      }
    },
    {
      "cell_type": "code",
      "source": [
        "string = \"Hello World!\"\n",
        "if string:\n",
        "  print(\"String is not empty\")\n",
        "else:\n",
        "  print(\"String is empty\")\n"
      ],
      "metadata": {
        "colab": {
          "base_uri": "https://localhost:8080/"
        },
        "id": "vkM1xb623DQy",
        "outputId": "d12772c4-d97b-4d1f-be9b-fa127adc2031"
      },
      "execution_count": null,
      "outputs": [
        {
          "output_type": "stream",
          "name": "stdout",
          "text": [
            "String is not empty\n"
          ]
        }
      ]
    },
    {
      "cell_type": "markdown",
      "source": [
        "Create a Python program that identifies the type of a triangle (e.g., equilateral, isosceles, or scalene) based on input values using if-else.\n"
      ],
      "metadata": {
        "id": "FTH4k8-W3LTX"
      }
    },
    {
      "cell_type": "code",
      "source": [
        "a = int(input(\"Enter the length of side a: \"))\n",
        "b = int(input(\"Enter the length of side b: \"))\n",
        "c = int(input(\"Enter the length of side c: \"))\n",
        "\n",
        "if a == b == c:\n",
        "    print(\"Triangle is equilateral.\")\n",
        "elif a == b or b == c or a == c:\n",
        "    print(\"Triangle is isosceles.\")\n",
        "else:\n",
        "    print(\"Triangle is scalene.\")\n"
      ],
      "metadata": {
        "colab": {
          "base_uri": "https://localhost:8080/"
        },
        "id": "Irm0wzB43qmg",
        "outputId": "777cafc5-d9ac-49ce-b282-de8ffced09ad"
      },
      "execution_count": null,
      "outputs": [
        {
          "output_type": "stream",
          "name": "stdout",
          "text": [
            "Enter the length of side a: 20\n",
            "Enter the length of side b: 20\n",
            "Enter the length of side c: 20\n",
            "Triangle is equilateral.\n"
          ]
        }
      ]
    },
    {
      "cell_type": "markdown",
      "source": [
        "Write a Python program to determine the day of the week based on a user-provided number using if-else.\n"
      ],
      "metadata": {
        "id": "CNXON4vR3wyS"
      }
    },
    {
      "cell_type": "code",
      "source": [
        "def week_day(num):\n",
        "\n",
        "    if num > 7 :\n",
        "        print(\"Please enter valid number.\")\n",
        "    if num == 1:\n",
        "        print(\"Monday\")\n",
        "    elif num ==2:\n",
        "        print(\"Tuesday\")\n",
        "    elif num == 3:\n",
        "        print(\"Wednesday\")\n",
        "    elif num == 4:\n",
        "        print(\"Thursday\")\n",
        "    elif num == 5:\n",
        "        print(\"Friday\")\n",
        "    elif num == 6:\n",
        "        print(\"Saturday\")\n",
        "    elif num ==7:\n",
        "        print(\"Sunday\")\n",
        "\n",
        "week_day(8)\n",
        "week_day(7)"
      ],
      "metadata": {
        "colab": {
          "base_uri": "https://localhost:8080/"
        },
        "id": "nfTQMqtd31gg",
        "outputId": "bdf62461-c54b-4e7b-8383-3e635a693ae8"
      },
      "execution_count": null,
      "outputs": [
        {
          "output_type": "stream",
          "name": "stdout",
          "text": [
            "Please enter valid number.\n",
            "Sunday\n"
          ]
        }
      ]
    },
    {
      "cell_type": "markdown",
      "source": [
        "Create a Python program that checks if a given year is a leap year using both if-else and a function.\n"
      ],
      "metadata": {
        "id": "0EtJxxYv7o-5"
      }
    },
    {
      "cell_type": "code",
      "source": [
        "def is_leap_year(year):\n",
        "\n",
        "    if year % 100 == 0:\n",
        "        return year % 400 == 0\n",
        "    else:\n",
        "        return year % 4 == 0\n",
        "\n",
        "print(is_leap_year(2020))\n"
      ],
      "metadata": {
        "colab": {
          "base_uri": "https://localhost:8080/"
        },
        "id": "WunaP7CE9Bzi",
        "outputId": "50ebb933-2c45-4bc8-d24f-5f9baf7013c4"
      },
      "execution_count": null,
      "outputs": [
        {
          "output_type": "stream",
          "name": "stdout",
          "text": [
            "True\n"
          ]
        }
      ]
    },
    {
      "cell_type": "markdown",
      "source": [
        "Create a Python program that determines the eligibility of a person for a senior citizen discount based on age using if-else.\n"
      ],
      "metadata": {
        "id": "mj3jfn5T9Rzf"
      }
    },
    {
      "cell_type": "code",
      "source": [
        "age = int(input(\"Enter your age: \"))\n",
        "if age >= 60:\n",
        "  print(\"You are eligible for a senior citizen discount.\")\n",
        "else:\n",
        "  print(\"You are not eligible for a senior citizen discount.\")\n"
      ],
      "metadata": {
        "colab": {
          "base_uri": "https://localhost:8080/"
        },
        "id": "CuaA5Mpr9bDz",
        "outputId": "6f0a7c7f-d47a-442c-c990-bed94d6dbf08"
      },
      "execution_count": null,
      "outputs": [
        {
          "output_type": "stream",
          "name": "stdout",
          "text": [
            "Enter your age: 68\n",
            "You are eligible for a senior citizen discount.\n"
          ]
        }
      ]
    },
    {
      "cell_type": "markdown",
      "source": [
        "Write a Python program to categorize a given character as uppercase, lowercase, or neither using if-else.\n"
      ],
      "metadata": {
        "id": "8XZtHGWa9mXX"
      }
    },
    {
      "cell_type": "code",
      "source": [
        "def categorize_character(char):\n",
        "    if char.isupper():\n",
        "        print(\"Uppercase\")\n",
        "    elif char.islower():\n",
        "        print(\"Lowercase\")\n",
        "    else:\n",
        "        print(\"Neither\")\n",
        "\n",
        "categorize_character(\"A\")\n",
        "categorize_character(\"a\")\n",
        "categorize_character(\"1\")\n"
      ],
      "metadata": {
        "colab": {
          "base_uri": "https://localhost:8080/"
        },
        "id": "_b3G7Qh19xc2",
        "outputId": "4628487e-e01a-4d50-87e2-f08556ffe140"
      },
      "execution_count": null,
      "outputs": [
        {
          "output_type": "stream",
          "name": "stdout",
          "text": [
            "Uppercase\n",
            "Lowercase\n",
            "Neither\n"
          ]
        }
      ]
    },
    {
      "cell_type": "markdown",
      "source": [
        "Write a Python program to determine the roots of a quadratic equation using if-else.\n"
      ],
      "metadata": {
        "id": "lqoWGToc94Sx"
      }
    },
    {
      "cell_type": "code",
      "source": [
        "a = int(input(\"Enter the value of a: \"))\n",
        "b = int(input(\"Enter the value of b: \"))\n",
        "c = int(input(\"Enter the value of c: \"))\n",
        "\n",
        "if a == 0:\n",
        "    print(\"The equation is not a quadratic equation.\")\n",
        "else:\n",
        "    d = (b ** 2 - 4 * a * c) ** 0.5\n",
        "    x1 = (-b + d) / (2 * a)\n",
        "    x2 = (-b - d) / (2 * a)\n",
        "    print(\"The roots of the equation are x1 = {0} and x2 = {1}.\".format(x1, x2))\n"
      ],
      "metadata": {
        "colab": {
          "base_uri": "https://localhost:8080/"
        },
        "id": "N8luXVj19-Wl",
        "outputId": "3e5e71a5-dfcd-4be0-f117-c7a9623580a2"
      },
      "execution_count": null,
      "outputs": [
        {
          "output_type": "stream",
          "name": "stdout",
          "text": [
            "Enter the value of a: 20\n",
            "Enter the value of b: 30\n",
            "Enter the value of c: 40\n",
            "The roots of the equation are x1 = (-0.7499999999999999+1.1989578808281798j) and x2 = (-0.7500000000000001-1.1989578808281798j).\n"
          ]
        }
      ]
    },
    {
      "cell_type": "markdown",
      "source": [
        "Create a Python program that checks if a given year is a century year or not using if-else.\n"
      ],
      "metadata": {
        "id": "f3INvaAe-Sck"
      }
    },
    {
      "cell_type": "code",
      "source": [
        "year = int(input(\"Enter a year: \"))\n",
        "if year % 100 == 0:\n",
        "  print(f\"{year} is a century year.\")\n",
        "else:\n",
        "  print(f\"{year} is not a century year.\")\n"
      ],
      "metadata": {
        "colab": {
          "base_uri": "https://localhost:8080/"
        },
        "id": "PpGVkL8f-ZRw",
        "outputId": "882997c5-17fc-4959-e3fb-813929f055b8"
      },
      "execution_count": null,
      "outputs": [
        {
          "output_type": "stream",
          "name": "stdout",
          "text": [
            "Enter a year: 1900\n",
            "1900 is a century year.\n"
          ]
        }
      ]
    },
    {
      "cell_type": "markdown",
      "source": [
        "Write a Python program to determine if a given number is a perfect square using if-else."
      ],
      "metadata": {
        "id": "cuykX-iU-lHT"
      }
    },
    {
      "cell_type": "code",
      "source": [
        "import math\n",
        "def is_perfect_square(n):\n",
        "    if n < 0:\n",
        "        return False\n",
        "    if n == 0:\n",
        "        return True\n",
        "    if n == 1:\n",
        "        return True\n",
        "    if n % 2 == 0:\n",
        "        return False\n",
        "    for i in range(3, int(math.sqrt(n)) + 1, 2):\n",
        "        if n % i == 0:\n",
        "            return False\n",
        "    return True\n",
        "\n",
        "is_perfect_square(5)"
      ],
      "metadata": {
        "colab": {
          "base_uri": "https://localhost:8080/"
        },
        "id": "Qr4zIiZI-phN",
        "outputId": "365c3619-1246-42bc-a200-6897c49c418c"
      },
      "execution_count": null,
      "outputs": [
        {
          "output_type": "execute_result",
          "data": {
            "text/plain": [
              "True"
            ]
          },
          "metadata": {},
          "execution_count": 28
        }
      ]
    },
    {
      "cell_type": "markdown",
      "source": [
        "Create a Python program that calculates the BMI (Body Mass Index) of a person based on their weight and height using if-else."
      ],
      "metadata": {
        "id": "VXFr0orF_HLA"
      }
    },
    {
      "cell_type": "code",
      "source": [
        "weight = float(input(\"Enter your weight in kilograms: \"))\n",
        "\n",
        "height = float(input(\"Enter your height in meters: \"))\n",
        "\n",
        "# Calculate the user's BMI\n",
        "bmi = weight / height ** 2\n",
        "\n",
        "print(f\"Your BMI is {bmi:.2f}.\")\n",
        "\n",
        "if bmi < 18.5:\n",
        "  print(\"You are underweight.\")\n",
        "elif bmi >= 18.5 and bmi < 24.9:\n",
        "  print(\"You are healthy weight.\")\n",
        "elif bmi >= 24.9 and bmi < 29.9:\n",
        "  print(\"You are overweight.\")\n",
        "elif bmi >= 29.9:\n",
        "  print(\"You are obese.\")\n"
      ],
      "metadata": {
        "colab": {
          "base_uri": "https://localhost:8080/"
        },
        "id": "puuqXmIY_O5v",
        "outputId": "f0e6730e-a5d2-4061-866c-5754b71c92e8"
      },
      "execution_count": null,
      "outputs": [
        {
          "output_type": "stream",
          "name": "stdout",
          "text": [
            "Enter your weight in kilograms: 55\n",
            "Enter your height in meters: 1.25\n",
            "Your BMI is 35.20.\n",
            "You are obese.\n"
          ]
        }
      ]
    },
    {
      "cell_type": "markdown",
      "source": [
        "Write a Python program to determine if a given number is prime or not using if-else.\n"
      ],
      "metadata": {
        "id": "lP5gX48e_erQ"
      }
    },
    {
      "cell_type": "code",
      "source": [
        "def is_prime(num):\n",
        "    if num <= 1:\n",
        "        return False\n",
        "    for i in range(2, int(num ** 0.5) + 1):\n",
        "        if num % i == 0:\n",
        "            return False\n",
        "    return True\n",
        "\n",
        "is_prime(11)"
      ],
      "metadata": {
        "colab": {
          "base_uri": "https://localhost:8080/"
        },
        "id": "xX1M9Wev_kvt",
        "outputId": "9d83234f-d321-4fb2-961e-97149fbf9c47"
      },
      "execution_count": null,
      "outputs": [
        {
          "output_type": "execute_result",
          "data": {
            "text/plain": [
              "False"
            ]
          },
          "metadata": {},
          "execution_count": 30
        }
      ]
    },
    {
      "cell_type": "markdown",
      "source": [
        "Write a Python program that uses the `map()` function to square each element of a list of numbers.\n"
      ],
      "metadata": {
        "id": "2pQXrD3zh4HU"
      }
    },
    {
      "cell_type": "code",
      "source": [
        "lst = [1,2,3,4,5,6]\n",
        "\n",
        "list(map(lambda a: a*2 ,lst))\n"
      ],
      "metadata": {
        "colab": {
          "base_uri": "https://localhost:8080/"
        },
        "id": "6H7Oax19h5Rg",
        "outputId": "abe205ee-9c2a-4e6a-ce11-fe1c61bd3ce4"
      },
      "execution_count": 3,
      "outputs": [
        {
          "output_type": "execute_result",
          "data": {
            "text/plain": [
              "[2, 4, 6, 8, 10, 12]"
            ]
          },
          "metadata": {},
          "execution_count": 3
        }
      ]
    },
    {
      "cell_type": "markdown",
      "source": [
        "Create a Python program that uses the `map()` function to convert a list of names to uppercase.\n"
      ],
      "metadata": {
        "id": "LVB8nlKXlFhz"
      }
    },
    {
      "cell_type": "code",
      "source": [
        "names = [\"John\",\"Mary\", \"Peter\", \"Susan\"]\n",
        "\n",
        "list(map(lambda name: name.upper(), names))\n"
      ],
      "metadata": {
        "colab": {
          "base_uri": "https://localhost:8080/"
        },
        "id": "lVN_ILNxmPFM",
        "outputId": "1b371371-32f9-4597-874b-dad6c3af49d6"
      },
      "execution_count": 8,
      "outputs": [
        {
          "output_type": "execute_result",
          "data": {
            "text/plain": [
              "['JOHN', 'MARY', 'PETER', 'SUSAN']"
            ]
          },
          "metadata": {},
          "execution_count": 8
        }
      ]
    },
    {
      "cell_type": "markdown",
      "source": [
        "Write a Python program that uses the `map()` function to calculate the length of each word in a list of strings.\n"
      ],
      "metadata": {
        "id": "rbaSN-aHscg5"
      }
    },
    {
      "cell_type": "code",
      "source": [
        "words = [\"Hello\", \"World\", \"This\", \"is\", \"a\", \"list\", \"of\", \"words\"]\n",
        "\n",
        "list(map(len, words))\n"
      ],
      "metadata": {
        "colab": {
          "base_uri": "https://localhost:8080/"
        },
        "id": "fntDt9XstEDX",
        "outputId": "bf4a8ff9-0f2a-4121-aaaa-7d9e8ca723e9"
      },
      "execution_count": 13,
      "outputs": [
        {
          "output_type": "execute_result",
          "data": {
            "text/plain": [
              "[5, 5, 4, 2, 1, 4, 2, 5]"
            ]
          },
          "metadata": {},
          "execution_count": 13
        }
      ]
    },
    {
      "cell_type": "markdown",
      "source": [
        "Create a Python program that uses `map()` to convert a list of temperatures from Celsius to Fahrenheit.\n"
      ],
      "metadata": {
        "id": "ZUs8WLAftP9H"
      }
    },
    {
      "cell_type": "code",
      "source": [
        "temperatures = [32, 68, 104, 140, 176]\n",
        "\n",
        "list(map(lambda temp: (temp * 1.8) + 32, temperatures))\n"
      ],
      "metadata": {
        "colab": {
          "base_uri": "https://localhost:8080/"
        },
        "id": "QN73BD66tXnH",
        "outputId": "e87f5b6e-dc74-4f84-fa89-6babd92dc73e"
      },
      "execution_count": 14,
      "outputs": [
        {
          "output_type": "execute_result",
          "data": {
            "text/plain": [
              "[89.6, 154.4, 219.20000000000002, 284.0, 348.8]"
            ]
          },
          "metadata": {},
          "execution_count": 14
        }
      ]
    },
    {
      "cell_type": "markdown",
      "source": [
        "Write a Python program that uses the `map()` function to round each element of a list of floating-point numbers to the nearest integer.\n"
      ],
      "metadata": {
        "id": "ZFuCLgJYtzVq"
      }
    },
    {
      "cell_type": "code",
      "source": [
        "numbers = [1.2, 3.4, 5.6, 7.8, 9.0]\n",
        "\n",
        "list(map(lambda num: round(num), numbers))\n"
      ],
      "metadata": {
        "colab": {
          "base_uri": "https://localhost:8080/"
        },
        "id": "ulOSDd2ut9ax",
        "outputId": "6d72c087-a7d7-43bf-cc93-0f980a5a8f33"
      },
      "execution_count": 15,
      "outputs": [
        {
          "output_type": "execute_result",
          "data": {
            "text/plain": [
              "[1, 3, 6, 8, 9]"
            ]
          },
          "metadata": {},
          "execution_count": 15
        }
      ]
    },
    {
      "cell_type": "markdown",
      "source": [
        "Write a Python program that uses the `reduce()` function to find the product of all elements in a list.\n"
      ],
      "metadata": {
        "id": "xDbAS1k2usqZ"
      }
    },
    {
      "cell_type": "code",
      "source": [
        "from functools import reduce\n",
        "numbers = [1, 2, 3, 4, 5]\n",
        "product = reduce(lambda a, b: a * b, numbers)\n",
        "print(product)\n"
      ],
      "metadata": {
        "colab": {
          "base_uri": "https://localhost:8080/"
        },
        "id": "DpSAJioevRSh",
        "outputId": "003f775e-8490-41fc-c33b-80073e61c957"
      },
      "execution_count": 17,
      "outputs": [
        {
          "output_type": "stream",
          "name": "stdout",
          "text": [
            "120\n"
          ]
        }
      ]
    },
    {
      "cell_type": "markdown",
      "source": [
        "Create a Python program that uses `reduce()` to find the maximum element in a list of numbers.\n"
      ],
      "metadata": {
        "id": "5Z8BjjsCvhdU"
      }
    },
    {
      "cell_type": "code",
      "source": [
        "lst = [1,2,3,4,5,6,7]\n",
        "\n",
        "maxi = reduce(lambda a,b : max(a,b), lst)\n",
        "\n",
        "print(maxi)"
      ],
      "metadata": {
        "colab": {
          "base_uri": "https://localhost:8080/"
        },
        "id": "EbcifWU9vkkm",
        "outputId": "47b07a80-f2d7-46bd-e8cb-414c3fedc16f"
      },
      "execution_count": 20,
      "outputs": [
        {
          "output_type": "stream",
          "name": "stdout",
          "text": [
            "7\n"
          ]
        }
      ]
    },
    {
      "cell_type": "markdown",
      "source": [
        "Write a Python program that calculates the factorial of a number using the `reduce()` function.\n"
      ],
      "metadata": {
        "id": "M4HMJ7aJxBPb"
      }
    },
    {
      "cell_type": "code",
      "source": [
        "def factorial(n):\n",
        "    return reduce(lambda a, b: a * b, range(1, n + 1))\n",
        "\n",
        "\n",
        "print(factorial(5))\n"
      ],
      "metadata": {
        "colab": {
          "base_uri": "https://localhost:8080/"
        },
        "id": "rpVp3Gg2xsnh",
        "outputId": "81dbb9d2-9583-49d8-9eae-6852ce1bdbda"
      },
      "execution_count": 23,
      "outputs": [
        {
          "output_type": "stream",
          "name": "stdout",
          "text": [
            "120\n"
          ]
        }
      ]
    },
    {
      "cell_type": "markdown",
      "source": [
        "Create a Python program that uses `reduce()` to find the GCD (Greatest Common Divisor) of a list of numbers.\n"
      ],
      "metadata": {
        "id": "avIWBl95yFTb"
      }
    },
    {
      "cell_type": "code",
      "source": [
        "from functools import reduce\n",
        "def gcd(a, b):\n",
        "  while b:\n",
        "    a, b = b, a % b\n",
        "  return a\n",
        "\n",
        "def gcd_list(nums):\n",
        "  return reduce(gcd, nums)\n",
        "\n",
        "nums = [12, 18, 36]\n",
        "print(gcd_list(nums))\n"
      ],
      "metadata": {
        "colab": {
          "base_uri": "https://localhost:8080/"
        },
        "id": "KjAA9j6Sykz0",
        "outputId": "2834db9b-75b7-4ebf-ce69-0718c5dfe943"
      },
      "execution_count": 27,
      "outputs": [
        {
          "output_type": "stream",
          "name": "stdout",
          "text": [
            "6\n"
          ]
        }
      ]
    },
    {
      "cell_type": "markdown",
      "source": [
        "Write a Python program that uses the `reduce()` function to find the sum of the digits of a given number.\n"
      ],
      "metadata": {
        "id": "z9fc1Hjky4Hn"
      }
    },
    {
      "cell_type": "code",
      "source": [
        "def sum_digits(n):\n",
        "  return reduce(lambda a, b: a + b, map(int, str(n)))\n",
        "\n",
        "print(sum_digits(12345))\n"
      ],
      "metadata": {
        "colab": {
          "base_uri": "https://localhost:8080/"
        },
        "id": "yvSCvp1Ky_b3",
        "outputId": "890d73ad-05bd-4ce6-9cf2-79653b792e72"
      },
      "execution_count": 28,
      "outputs": [
        {
          "output_type": "stream",
          "name": "stdout",
          "text": [
            "15\n"
          ]
        }
      ]
    },
    {
      "cell_type": "markdown",
      "source": [
        "Write a Python program that uses the `filter()` function to select even numbers from a list of integers.\n"
      ],
      "metadata": {
        "id": "jsqZQb-UzwBe"
      }
    },
    {
      "cell_type": "code",
      "source": [
        "lst = [1,2,3,4,5,6,7,8,9,10]\n",
        "even_numbers = list(filter(lambda x: x % 2 == 0, lst))\n",
        "print(even_numbers)\n"
      ],
      "metadata": {
        "colab": {
          "base_uri": "https://localhost:8080/"
        },
        "id": "fVTW5KjAznr0",
        "outputId": "1a6055f7-4ea2-4f08-eb80-39a20b948a54"
      },
      "execution_count": 29,
      "outputs": [
        {
          "output_type": "stream",
          "name": "stdout",
          "text": [
            "[2, 4, 6, 8, 10]\n"
          ]
        }
      ]
    },
    {
      "cell_type": "markdown",
      "source": [
        "Create a Python program that uses the `filter()` function to select names that start with a specific letter from a list of strings.\n"
      ],
      "metadata": {
        "id": "zRX7HQT50Bwb"
      }
    },
    {
      "cell_type": "code",
      "source": [
        "names = ['John', 'Mary', 'Peter', 'Susan', 'Alice', 'Bob', 'Carol', 'Dave']\n",
        "filtered_names = list(filter(lambda name: name.startswith('A'), names))\n",
        "print(filtered_names)\n"
      ],
      "metadata": {
        "colab": {
          "base_uri": "https://localhost:8080/"
        },
        "id": "7TFjlcdo0JFY",
        "outputId": "bdece3fc-2864-460f-bc06-4bdcb7cbb548"
      },
      "execution_count": 30,
      "outputs": [
        {
          "output_type": "stream",
          "name": "stdout",
          "text": [
            "['Alice']\n"
          ]
        }
      ]
    },
    {
      "cell_type": "markdown",
      "source": [
        "Write a Python program that uses the `filter()` function to select prime numbers from a list of integers.\n"
      ],
      "metadata": {
        "id": "EeXcVW9N0cG6"
      }
    },
    {
      "cell_type": "code",
      "source": [
        "def is_prime(num):\n",
        "  if num <= 1:\n",
        "    return False\n",
        "  for i in range(2, int(num ** 0.5) + 1):\n",
        "    if num % i == 0:\n",
        "      return False\n",
        "  return True\n",
        "\n",
        "nums = [1,2,3,4,5,6,7,8,9,10]\n",
        "prime_numbers = list(filter(is_prime, nums))\n",
        "print(prime_numbers)\n"
      ],
      "metadata": {
        "colab": {
          "base_uri": "https://localhost:8080/"
        },
        "id": "Dg4p7afj0gBS",
        "outputId": "a18d36b1-3b48-4128-8e5b-2ada83427609"
      },
      "execution_count": 31,
      "outputs": [
        {
          "output_type": "stream",
          "name": "stdout",
          "text": [
            "[2, 3, 5, 7]\n"
          ]
        }
      ]
    },
    {
      "cell_type": "markdown",
      "source": [
        "Create a Python program that uses `filter()` to select words longer than a certain length from a list of strings.\n"
      ],
      "metadata": {
        "id": "G1drjFjf08Wy"
      }
    },
    {
      "cell_type": "code",
      "source": [
        "words = ['apple', 'banana', 'cherry', 'durian', 'elderberry', 'fig']\n",
        "long_words = list(filter(lambda word: len(word) > 5, words))\n",
        "print(long_words)\n"
      ],
      "metadata": {
        "colab": {
          "base_uri": "https://localhost:8080/"
        },
        "id": "_XJowUNa1UmB",
        "outputId": "66a9768e-c012-4d2d-f323-060a0df7c4be"
      },
      "execution_count": 32,
      "outputs": [
        {
          "output_type": "stream",
          "name": "stdout",
          "text": [
            "['banana', 'cherry', 'durian', 'elderberry']\n"
          ]
        }
      ]
    },
    {
      "cell_type": "markdown",
      "source": [
        "Write a Python program that uses the `filter()` function to select elements greater than a specified threshold from a list of values.\n"
      ],
      "metadata": {
        "id": "3G7wjeKR1fEU"
      }
    },
    {
      "cell_type": "code",
      "source": [
        "numbers = [1,2,3,4,5,6,7,8,9,10]\n",
        "threshold = 5\n",
        "filtered_numbers = list(filter(lambda x: x > threshold, numbers))\n",
        "print(filtered_numbers)\n"
      ],
      "metadata": {
        "colab": {
          "base_uri": "https://localhost:8080/"
        },
        "id": "AWV3MjBB1jhj",
        "outputId": "4937bdad-15ba-41ae-cced-94aa4dfecb06"
      },
      "execution_count": 33,
      "outputs": [
        {
          "output_type": "stream",
          "name": "stdout",
          "text": [
            "[6, 7, 8, 9, 10]\n"
          ]
        }
      ]
    }
  ]
}